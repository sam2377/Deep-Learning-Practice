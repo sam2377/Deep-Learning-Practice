{
 "cells": [
  {
   "cell_type": "code",
   "execution_count": 2,
   "metadata": {},
   "outputs": [
    {
     "name": "stdout",
     "output_type": "stream",
     "text": [
      "Train on 80 samples, validate on 20 samples\n",
      "Epoch 1/10\n",
      "80/80 [==============================] - 0s 847us/step - loss: 0.0904 - val_loss: 0.0896\n",
      "Epoch 2/10\n",
      "80/80 [==============================] - 0s 112us/step - loss: 0.0904 - val_loss: 0.0896\n",
      "Epoch 3/10\n",
      "80/80 [==============================] - 0s 87us/step - loss: 0.0904 - val_loss: 0.0896\n",
      "Epoch 4/10\n",
      "80/80 [==============================] - 0s 75us/step - loss: 0.0904 - val_loss: 0.0896\n",
      "Epoch 5/10\n",
      "80/80 [==============================] - 0s 125us/step - loss: 0.0904 - val_loss: 0.0896\n",
      "Epoch 6/10\n",
      "80/80 [==============================] - 0s 100us/step - loss: 0.0904 - val_loss: 0.0896\n",
      "Epoch 7/10\n",
      "80/80 [==============================] - 0s 100us/step - loss: 0.0904 - val_loss: 0.0896\n",
      "Epoch 8/10\n",
      "80/80 [==============================] - 0s 125us/step - loss: 0.0904 - val_loss: 0.0896\n",
      "Epoch 9/10\n",
      "80/80 [==============================] - 0s 99us/step - loss: 0.0904 - val_loss: 0.0896\n",
      "Epoch 10/10\n",
      "80/80 [==============================] - 0s 87us/step - loss: 0.0904 - val_loss: 0.0896\n"
     ]
    },
    {
     "data": {
      "text/plain": [
       "<keras.callbacks.callbacks.History at 0x21b89f077f0>"
      ]
     },
     "execution_count": 2,
     "metadata": {},
     "output_type": "execute_result"
    }
   ],
   "source": [
    "# CNN Train 1\n",
    "import keras\n",
    "from keras.models import Sequential, Model\n",
    "from keras.layers import Dense, Activation, Flatten, Conv2D\n",
    "from keras.utils import np_utils\n",
    "from keras.optimizers import SGD\n",
    "import keras.callbacks as callbacks\n",
    "import numpy as np\n",
    "from IPython.display import SVG\n",
    "from keras.utils.vis_utils import model_to_dot\n",
    "\n",
    "import os\n",
    "os.environ[\"PATH\"] += os.pathsep + 'C:/Program Files (x86)/Graphviz2.38/bin/'\n",
    "\n",
    "x_train = np.random.random((100, 6, 6, 1))\n",
    "y_train = keras.utils.to_categorical(np.random.randint(10, size=(100, 1)), num_classes=10)\n",
    "x_test = np.random.random((20, 6, 6, 1))\n",
    "y_test = keras.utils.to_categorical(np.random.randint(10, size=(20, 1)), num_classes=10)\n",
    "\n",
    "model = Sequential()\n",
    "model.add(Conv2D(filters=3, kernel_size=(3, 3), input_shape=(6, 6, 1), kernel_initializer='lecun_uniform', name='Conv2D_1'))\n",
    "model.add(Flatten(name='Flatten_1'))\n",
    "model.add(Dense(units=10, activation='softmax', name='Dense_1'))\n",
    "\n",
    "SVG(model_to_dot(model, show_shapes=True, dpi=65).create(prog='dot', format='svg'))\n",
    "\n",
    "earlyStopping = callbacks.EarlyStopping(monitor='val_loss', patience=5)\n",
    "\n",
    "model.compile(loss='mean_squared_error', optimizer='sgd')\n",
    "model.fit(x_train, y_train, batch_size=32, epochs=10, callbacks=[earlyStopping], validation_split=0.2)"
   ]
  }
 ],
 "metadata": {
  "kernelspec": {
   "display_name": "Python [conda env:tensorflow-gpu] *",
   "language": "python",
   "name": "conda-env-tensorflow-gpu-py"
  },
  "language_info": {
   "codemirror_mode": {
    "name": "ipython",
    "version": 3
   },
   "file_extension": ".py",
   "mimetype": "text/x-python",
   "name": "python",
   "nbconvert_exporter": "python",
   "pygments_lexer": "ipython3",
   "version": "3.6.7"
  }
 },
 "nbformat": 4,
 "nbformat_minor": 4
}
