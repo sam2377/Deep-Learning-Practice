{
 "cells": [
  {
   "cell_type": "markdown",
   "metadata": {},
   "source": [
    "# Sequential Model Sample"
   ]
  },
  {
   "cell_type": "code",
   "execution_count": 9,
   "metadata": {},
   "outputs": [
    {
     "name": "stdout",
     "output_type": "stream",
     "text": [
      "Epoch 1/10\n",
      "1000/1000 [==============================] - 0s 123us/step - loss: 2.3529 - accuracy: 0.1020\n",
      "Epoch 2/10\n",
      "1000/1000 [==============================] - 0s 68us/step - loss: 2.3144 - accuracy: 0.1030\n",
      "Epoch 3/10\n",
      "1000/1000 [==============================] - 0s 62us/step - loss: 2.3082 - accuracy: 0.1020\n",
      "Epoch 4/10\n",
      "1000/1000 [==============================] - 0s 63us/step - loss: 2.2877 - accuracy: 0.1330\n",
      "Epoch 5/10\n",
      "1000/1000 [==============================] - 0s 63us/step - loss: 2.2765 - accuracy: 0.1430\n",
      "Epoch 6/10\n",
      "1000/1000 [==============================] - 0s 67us/step - loss: 2.2464 - accuracy: 0.1750\n",
      "Epoch 7/10\n",
      "1000/1000 [==============================] - 0s 69us/step - loss: 2.2182 - accuracy: 0.1900\n",
      "Epoch 8/10\n",
      "1000/1000 [==============================] - 0s 67us/step - loss: 2.1828 - accuracy: 0.2040\n",
      "Epoch 9/10\n",
      "1000/1000 [==============================] - 0s 67us/step - loss: 2.1443 - accuracy: 0.2120\n",
      "Epoch 10/10\n",
      "1000/1000 [==============================] - 0s 70us/step - loss: 2.1061 - accuracy: 0.2590\n"
     ]
    },
    {
     "data": {
      "text/plain": [
       "<keras.callbacks.callbacks.History at 0x1ad10269f98>"
      ]
     },
     "execution_count": 9,
     "metadata": {},
     "output_type": "execute_result"
    }
   ],
   "source": [
    "from keras.models import Sequential\n",
    "from keras.layers import Dense, Activation\n",
    "from keras.utils import np_utils\n",
    "import numpy as np\n",
    "\n",
    "# 測試資料\n",
    "data = np.random.random((1000, 784))\n",
    "labels = np.random.randint(10, size=(1000, 1))\n",
    "labels = np_utils.to_categorical(labels, 10)\n",
    "\n",
    "model = Sequential()\n",
    "model.add(Dense(64, activation='relu', input_dim=784))\n",
    "model.add(Dense(64, activation='relu'))\n",
    "model.add(Dense(10, activation='softmax'))\n",
    "\n",
    "# 編譯模型\n",
    "model.compile(optimizer='rmsprop', loss='categorical_crossentropy', metrics=['accuracy'])\n",
    "\n",
    "# 進行學習\n",
    "model.fit(data, labels, epochs=10)"
   ]
  },
  {
   "cell_type": "code",
   "execution_count": null,
   "metadata": {},
   "outputs": [],
   "source": []
  }
 ],
 "metadata": {
  "kernelspec": {
   "display_name": "Python 3",
   "language": "python",
   "name": "python3"
  },
  "language_info": {
   "codemirror_mode": {
    "name": "ipython",
    "version": 3
   },
   "file_extension": ".py",
   "mimetype": "text/x-python",
   "name": "python",
   "nbconvert_exporter": "python",
   "pygments_lexer": "ipython3",
   "version": "3.6.7"
  }
 },
 "nbformat": 4,
 "nbformat_minor": 4
}
