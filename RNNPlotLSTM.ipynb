{
 "cells": [
  {
   "cell_type": "code",
   "execution_count": 4,
   "metadata": {},
   "outputs": [
    {
     "data": {
      "image/svg+xml": [
       "<svg height=\"125pt\" viewBox=\"0.00 0.00 268.00 138.00\" width=\"242pt\" xmlns=\"http://www.w3.org/2000/svg\" xmlns:xlink=\"http://www.w3.org/1999/xlink\">\n",
       "<g class=\"graph\" id=\"graph0\" transform=\"scale(0.902778 0.902778) rotate(0) translate(4 134)\">\n",
       "<title>G</title>\n",
       "<polygon fill=\"white\" points=\"-4,4 -4,-134 264,-134 264,4 -4,4\" stroke=\"none\"/>\n",
       "<!-- 2518168194744 -->\n",
       "<g class=\"node\" id=\"node1\"><title>2518168194744</title>\n",
       "<polygon fill=\"none\" points=\"0,-83.5 0,-129.5 260,-129.5 260,-83.5 0,-83.5\" stroke=\"black\"/>\n",
       "<text font-family=\"Times New Roman,serif\" font-size=\"14.00\" text-anchor=\"middle\" x=\"56.5\" y=\"-102.8\">Input: InputLayer</text>\n",
       "<polyline fill=\"none\" points=\"113,-83.5 113,-129.5 \" stroke=\"black\"/>\n",
       "<text font-family=\"Times New Roman,serif\" font-size=\"14.00\" text-anchor=\"middle\" x=\"141\" y=\"-114.3\">input:</text>\n",
       "<polyline fill=\"none\" points=\"113,-106.5 169,-106.5 \" stroke=\"black\"/>\n",
       "<text font-family=\"Times New Roman,serif\" font-size=\"14.00\" text-anchor=\"middle\" x=\"141\" y=\"-91.3\">output:</text>\n",
       "<polyline fill=\"none\" points=\"169,-83.5 169,-129.5 \" stroke=\"black\"/>\n",
       "<text font-family=\"Times New Roman,serif\" font-size=\"14.00\" text-anchor=\"middle\" x=\"214.5\" y=\"-114.3\">(None, 5, 15)</text>\n",
       "<polyline fill=\"none\" points=\"169,-106.5 260,-106.5 \" stroke=\"black\"/>\n",
       "<text font-family=\"Times New Roman,serif\" font-size=\"14.00\" text-anchor=\"middle\" x=\"214.5\" y=\"-91.3\">(None, 5, 15)</text>\n",
       "</g>\n",
       "<!-- 2518179090272 -->\n",
       "<g class=\"node\" id=\"node2\"><title>2518179090272</title>\n",
       "<polygon fill=\"none\" points=\"0,-0.5 0,-46.5 260,-46.5 260,-0.5 0,-0.5\" stroke=\"black\"/>\n",
       "<text font-family=\"Times New Roman,serif\" font-size=\"14.00\" text-anchor=\"middle\" x=\"56.5\" y=\"-19.8\">LSTM_1: LSTM</text>\n",
       "<polyline fill=\"none\" points=\"113,-0.5 113,-46.5 \" stroke=\"black\"/>\n",
       "<text font-family=\"Times New Roman,serif\" font-size=\"14.00\" text-anchor=\"middle\" x=\"141\" y=\"-31.3\">input:</text>\n",
       "<polyline fill=\"none\" points=\"113,-23.5 169,-23.5 \" stroke=\"black\"/>\n",
       "<text font-family=\"Times New Roman,serif\" font-size=\"14.00\" text-anchor=\"middle\" x=\"141\" y=\"-8.3\">output:</text>\n",
       "<polyline fill=\"none\" points=\"169,-0.5 169,-46.5 \" stroke=\"black\"/>\n",
       "<text font-family=\"Times New Roman,serif\" font-size=\"14.00\" text-anchor=\"middle\" x=\"214.5\" y=\"-31.3\">(None, 5, 15)</text>\n",
       "<polyline fill=\"none\" points=\"169,-23.5 260,-23.5 \" stroke=\"black\"/>\n",
       "<text font-family=\"Times New Roman,serif\" font-size=\"14.00\" text-anchor=\"middle\" x=\"214.5\" y=\"-8.3\">(None, 10)</text>\n",
       "</g>\n",
       "<!-- 2518168194744&#45;&gt;2518179090272 -->\n",
       "<g class=\"edge\" id=\"edge1\"><title>2518168194744-&gt;2518179090272</title>\n",
       "<path d=\"M130,-83.3664C130,-75.1516 130,-65.6579 130,-56.7252\" fill=\"none\" stroke=\"black\"/>\n",
       "<polygon fill=\"black\" points=\"133.5,-56.6068 130,-46.6068 126.5,-56.6069 133.5,-56.6068\" stroke=\"black\"/>\n",
       "</g>\n",
       "</g>\n",
       "</svg>"
      ],
      "text/plain": [
       "<IPython.core.display.SVG object>"
      ]
     },
     "execution_count": 4,
     "metadata": {},
     "output_type": "execute_result"
    }
   ],
   "source": [
    "# RNN Model 2 - LSTM\n",
    "from keras.models import Model\n",
    "from keras.layers import Input, LSTM\n",
    "from IPython.display import SVG\n",
    "from keras.utils.vis_utils import model_to_dot\n",
    "\n",
    "units = 10\n",
    "time_steps = 5\n",
    "input_dim = 15\n",
    "input_shape = (time_steps, input_dim)\n",
    "\n",
    "x = Input(shape=input_shape, name='Input')\n",
    "y = LSTM(units=units, activation='sigmoid', name='LSTM_1')(x)\n",
    "model = Model(inputs=[x], outputs=[y])\n",
    "\n",
    "SVG(model_to_dot(model, show_shapes=True, dpi=65).create(prog='dot', format='svg'))"
   ]
  },
  {
   "cell_type": "code",
   "execution_count": 5,
   "metadata": {},
   "outputs": [
    {
     "data": {
      "image/svg+xml": [
       "<svg height=\"125pt\" viewBox=\"0.00 0.00 268.00 138.00\" width=\"242pt\" xmlns=\"http://www.w3.org/2000/svg\" xmlns:xlink=\"http://www.w3.org/1999/xlink\">\n",
       "<g class=\"graph\" id=\"graph0\" transform=\"scale(0.902778 0.902778) rotate(0) translate(4 134)\">\n",
       "<title>G</title>\n",
       "<polygon fill=\"white\" points=\"-4,4 -4,-134 264,-134 264,4 -4,4\" stroke=\"none\"/>\n",
       "<!-- 2518168194744 -->\n",
       "<g class=\"node\" id=\"node1\"><title>2518168194744</title>\n",
       "<polygon fill=\"none\" points=\"0,-83.5 0,-129.5 260,-129.5 260,-83.5 0,-83.5\" stroke=\"black\"/>\n",
       "<text font-family=\"Times New Roman,serif\" font-size=\"14.00\" text-anchor=\"middle\" x=\"56.5\" y=\"-102.8\">Input: InputLayer</text>\n",
       "<polyline fill=\"none\" points=\"113,-83.5 113,-129.5 \" stroke=\"black\"/>\n",
       "<text font-family=\"Times New Roman,serif\" font-size=\"14.00\" text-anchor=\"middle\" x=\"141\" y=\"-114.3\">input:</text>\n",
       "<polyline fill=\"none\" points=\"113,-106.5 169,-106.5 \" stroke=\"black\"/>\n",
       "<text font-family=\"Times New Roman,serif\" font-size=\"14.00\" text-anchor=\"middle\" x=\"141\" y=\"-91.3\">output:</text>\n",
       "<polyline fill=\"none\" points=\"169,-83.5 169,-129.5 \" stroke=\"black\"/>\n",
       "<text font-family=\"Times New Roman,serif\" font-size=\"14.00\" text-anchor=\"middle\" x=\"214.5\" y=\"-114.3\">(None, 5, 15)</text>\n",
       "<polyline fill=\"none\" points=\"169,-106.5 260,-106.5 \" stroke=\"black\"/>\n",
       "<text font-family=\"Times New Roman,serif\" font-size=\"14.00\" text-anchor=\"middle\" x=\"214.5\" y=\"-91.3\">(None, 5, 15)</text>\n",
       "</g>\n",
       "<!-- 2518180373112 -->\n",
       "<g class=\"node\" id=\"node2\"><title>2518180373112</title>\n",
       "<polygon fill=\"none\" points=\"0,-0.5 0,-46.5 260,-46.5 260,-0.5 0,-0.5\" stroke=\"black\"/>\n",
       "<text font-family=\"Times New Roman,serif\" font-size=\"14.00\" text-anchor=\"middle\" x=\"56.5\" y=\"-19.8\">LSTM_1: LSTM</text>\n",
       "<polyline fill=\"none\" points=\"113,-0.5 113,-46.5 \" stroke=\"black\"/>\n",
       "<text font-family=\"Times New Roman,serif\" font-size=\"14.00\" text-anchor=\"middle\" x=\"141\" y=\"-31.3\">input:</text>\n",
       "<polyline fill=\"none\" points=\"113,-23.5 169,-23.5 \" stroke=\"black\"/>\n",
       "<text font-family=\"Times New Roman,serif\" font-size=\"14.00\" text-anchor=\"middle\" x=\"141\" y=\"-8.3\">output:</text>\n",
       "<polyline fill=\"none\" points=\"169,-0.5 169,-46.5 \" stroke=\"black\"/>\n",
       "<text font-family=\"Times New Roman,serif\" font-size=\"14.00\" text-anchor=\"middle\" x=\"214.5\" y=\"-31.3\">(None, 5, 15)</text>\n",
       "<polyline fill=\"none\" points=\"169,-23.5 260,-23.5 \" stroke=\"black\"/>\n",
       "<text font-family=\"Times New Roman,serif\" font-size=\"14.00\" text-anchor=\"middle\" x=\"214.5\" y=\"-8.3\">(None, 5, 10)</text>\n",
       "</g>\n",
       "<!-- 2518168194744&#45;&gt;2518180373112 -->\n",
       "<g class=\"edge\" id=\"edge1\"><title>2518168194744-&gt;2518180373112</title>\n",
       "<path d=\"M130,-83.3664C130,-75.1516 130,-65.6579 130,-56.7252\" fill=\"none\" stroke=\"black\"/>\n",
       "<polygon fill=\"black\" points=\"133.5,-56.6068 130,-46.6068 126.5,-56.6069 133.5,-56.6068\" stroke=\"black\"/>\n",
       "</g>\n",
       "</g>\n",
       "</svg>"
      ],
      "text/plain": [
       "<IPython.core.display.SVG object>"
      ]
     },
     "execution_count": 5,
     "metadata": {},
     "output_type": "execute_result"
    }
   ],
   "source": [
    "y = LSTM(units=units, activation='sigmoid', return_sequences=True, name='LSTM_1')(x)\n",
    "model = Model(inputs=[x], outputs=[y])\n",
    "\n",
    "SVG(model_to_dot(model, show_shapes=True, dpi=65).create(prog='dot', format='svg'))"
   ]
  },
  {
   "cell_type": "code",
   "execution_count": 6,
   "metadata": {},
   "outputs": [
    {
     "data": {
      "image/svg+xml": [
       "<svg height=\"125pt\" viewBox=\"0.00 0.00 398.00 138.00\" width=\"359pt\" xmlns=\"http://www.w3.org/2000/svg\" xmlns:xlink=\"http://www.w3.org/1999/xlink\">\n",
       "<g class=\"graph\" id=\"graph0\" transform=\"scale(0.902778 0.902778) rotate(0) translate(4 134)\">\n",
       "<title>G</title>\n",
       "<polygon fill=\"white\" points=\"-4,4 -4,-134 394,-134 394,4 -4,4\" stroke=\"none\"/>\n",
       "<!-- 2518182272920 -->\n",
       "<g class=\"node\" id=\"node1\"><title>2518182272920</title>\n",
       "<polygon fill=\"none\" points=\"65,-83.5 65,-129.5 325,-129.5 325,-83.5 65,-83.5\" stroke=\"black\"/>\n",
       "<text font-family=\"Times New Roman,serif\" font-size=\"14.00\" text-anchor=\"middle\" x=\"121.5\" y=\"-102.8\">Input: InputLayer</text>\n",
       "<polyline fill=\"none\" points=\"178,-83.5 178,-129.5 \" stroke=\"black\"/>\n",
       "<text font-family=\"Times New Roman,serif\" font-size=\"14.00\" text-anchor=\"middle\" x=\"206\" y=\"-114.3\">input:</text>\n",
       "<polyline fill=\"none\" points=\"178,-106.5 234,-106.5 \" stroke=\"black\"/>\n",
       "<text font-family=\"Times New Roman,serif\" font-size=\"14.00\" text-anchor=\"middle\" x=\"206\" y=\"-91.3\">output:</text>\n",
       "<polyline fill=\"none\" points=\"234,-83.5 234,-129.5 \" stroke=\"black\"/>\n",
       "<text font-family=\"Times New Roman,serif\" font-size=\"14.00\" text-anchor=\"middle\" x=\"279.5\" y=\"-114.3\">(None, 5, 15)</text>\n",
       "<polyline fill=\"none\" points=\"234,-106.5 325,-106.5 \" stroke=\"black\"/>\n",
       "<text font-family=\"Times New Roman,serif\" font-size=\"14.00\" text-anchor=\"middle\" x=\"279.5\" y=\"-91.3\">(None, 5, 15)</text>\n",
       "</g>\n",
       "<!-- 2518182514760 -->\n",
       "<g class=\"node\" id=\"node2\"><title>2518182514760</title>\n",
       "<polygon fill=\"none\" points=\"0,-0.5 0,-46.5 390,-46.5 390,-0.5 0,-0.5\" stroke=\"black\"/>\n",
       "<text font-family=\"Times New Roman,serif\" font-size=\"14.00\" text-anchor=\"middle\" x=\"56.5\" y=\"-19.8\">LSTM_1: LSTM</text>\n",
       "<polyline fill=\"none\" points=\"113,-0.5 113,-46.5 \" stroke=\"black\"/>\n",
       "<text font-family=\"Times New Roman,serif\" font-size=\"14.00\" text-anchor=\"middle\" x=\"141\" y=\"-31.3\">input:</text>\n",
       "<polyline fill=\"none\" points=\"113,-23.5 169,-23.5 \" stroke=\"black\"/>\n",
       "<text font-family=\"Times New Roman,serif\" font-size=\"14.00\" text-anchor=\"middle\" x=\"141\" y=\"-8.3\">output:</text>\n",
       "<polyline fill=\"none\" points=\"169,-0.5 169,-46.5 \" stroke=\"black\"/>\n",
       "<text font-family=\"Times New Roman,serif\" font-size=\"14.00\" text-anchor=\"middle\" x=\"279.5\" y=\"-31.3\">(None, 5, 15)</text>\n",
       "<polyline fill=\"none\" points=\"169,-23.5 390,-23.5 \" stroke=\"black\"/>\n",
       "<text font-family=\"Times New Roman,serif\" font-size=\"14.00\" text-anchor=\"middle\" x=\"279.5\" y=\"-8.3\">[(None, 10), (None, 10), (None, 10)]</text>\n",
       "</g>\n",
       "<!-- 2518182272920&#45;&gt;2518182514760 -->\n",
       "<g class=\"edge\" id=\"edge1\"><title>2518182272920-&gt;2518182514760</title>\n",
       "<path d=\"M195,-83.3664C195,-75.1516 195,-65.6579 195,-56.7252\" fill=\"none\" stroke=\"black\"/>\n",
       "<polygon fill=\"black\" points=\"198.5,-56.6068 195,-46.6068 191.5,-56.6069 198.5,-56.6068\" stroke=\"black\"/>\n",
       "</g>\n",
       "</g>\n",
       "</svg>"
      ],
      "text/plain": [
       "<IPython.core.display.SVG object>"
      ]
     },
     "execution_count": 6,
     "metadata": {},
     "output_type": "execute_result"
    }
   ],
   "source": [
    "x = Input(shape=input_shape, name='Input')\n",
    "y, state_1, state_2 = LSTM(units=units, activation='sigmoid', return_state=True, name='LSTM_1')(x)\n",
    "model = Model(inputs=[x], outputs=[y])\n",
    "\n",
    "SVG(model_to_dot(model, show_shapes=True, dpi=65).create(prog='dot', format='svg'))"
   ]
  }
 ],
 "metadata": {
  "kernelspec": {
   "display_name": "Python [conda env:tensorflow-gpu] *",
   "language": "python",
   "name": "conda-env-tensorflow-gpu-py"
  },
  "language_info": {
   "codemirror_mode": {
    "name": "ipython",
    "version": 3
   },
   "file_extension": ".py",
   "mimetype": "text/x-python",
   "name": "python",
   "nbconvert_exporter": "python",
   "pygments_lexer": "ipython3",
   "version": "3.6.7"
  }
 },
 "nbformat": 4,
 "nbformat_minor": 4
}
