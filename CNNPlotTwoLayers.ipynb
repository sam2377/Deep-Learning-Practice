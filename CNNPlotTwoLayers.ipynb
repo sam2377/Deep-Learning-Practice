{
 "cells": [
  {
   "cell_type": "code",
   "execution_count": 1,
   "metadata": {},
   "outputs": [
    {
     "name": "stderr",
     "output_type": "stream",
     "text": [
      "Using TensorFlow backend.\n"
     ]
    },
    {
     "data": {
      "image/svg+xml": [
       "<svg height=\"200pt\" viewBox=\"0.00 0.00 343.00 221.00\" width=\"310pt\" xmlns=\"http://www.w3.org/2000/svg\" xmlns:xlink=\"http://www.w3.org/1999/xlink\">\n",
       "<g class=\"graph\" id=\"graph0\" transform=\"scale(0.902778 0.902778) rotate(0) translate(4 217)\">\n",
       "<title>G</title>\n",
       "<polygon fill=\"white\" points=\"-4,4 -4,-217 339,-217 339,4 -4,4\" stroke=\"none\"/>\n",
       "<!-- 2876781042488 -->\n",
       "<g class=\"node\" id=\"node1\"><title>2876781042488</title>\n",
       "<polygon fill=\"none\" points=\"0,-166.5 0,-212.5 335,-212.5 335,-166.5 0,-166.5\" stroke=\"black\"/>\n",
       "<text font-family=\"Times New Roman,serif\" font-size=\"14.00\" text-anchor=\"middle\" x=\"90.5\" y=\"-185.8\">Conv2D_1_input: InputLayer</text>\n",
       "<polyline fill=\"none\" points=\"181,-166.5 181,-212.5 \" stroke=\"black\"/>\n",
       "<text font-family=\"Times New Roman,serif\" font-size=\"14.00\" text-anchor=\"middle\" x=\"209\" y=\"-197.3\">input:</text>\n",
       "<polyline fill=\"none\" points=\"181,-189.5 237,-189.5 \" stroke=\"black\"/>\n",
       "<text font-family=\"Times New Roman,serif\" font-size=\"14.00\" text-anchor=\"middle\" x=\"209\" y=\"-174.3\">output:</text>\n",
       "<polyline fill=\"none\" points=\"237,-166.5 237,-212.5 \" stroke=\"black\"/>\n",
       "<text font-family=\"Times New Roman,serif\" font-size=\"14.00\" text-anchor=\"middle\" x=\"286\" y=\"-197.3\">(None, 6, 6, 1)</text>\n",
       "<polyline fill=\"none\" points=\"237,-189.5 335,-189.5 \" stroke=\"black\"/>\n",
       "<text font-family=\"Times New Roman,serif\" font-size=\"14.00\" text-anchor=\"middle\" x=\"286\" y=\"-174.3\">(None, 6, 6, 1)</text>\n",
       "</g>\n",
       "<!-- 2876658118896 -->\n",
       "<g class=\"node\" id=\"node2\"><title>2876658118896</title>\n",
       "<polygon fill=\"none\" points=\"24.5,-83.5 24.5,-129.5 310.5,-129.5 310.5,-83.5 24.5,-83.5\" stroke=\"black\"/>\n",
       "<text font-family=\"Times New Roman,serif\" font-size=\"14.00\" text-anchor=\"middle\" x=\"90.5\" y=\"-102.8\">Conv2D_1: Conv2D</text>\n",
       "<polyline fill=\"none\" points=\"156.5,-83.5 156.5,-129.5 \" stroke=\"black\"/>\n",
       "<text font-family=\"Times New Roman,serif\" font-size=\"14.00\" text-anchor=\"middle\" x=\"184.5\" y=\"-114.3\">input:</text>\n",
       "<polyline fill=\"none\" points=\"156.5,-106.5 212.5,-106.5 \" stroke=\"black\"/>\n",
       "<text font-family=\"Times New Roman,serif\" font-size=\"14.00\" text-anchor=\"middle\" x=\"184.5\" y=\"-91.3\">output:</text>\n",
       "<polyline fill=\"none\" points=\"212.5,-83.5 212.5,-129.5 \" stroke=\"black\"/>\n",
       "<text font-family=\"Times New Roman,serif\" font-size=\"14.00\" text-anchor=\"middle\" x=\"261.5\" y=\"-114.3\">(None, 6, 6, 1)</text>\n",
       "<polyline fill=\"none\" points=\"212.5,-106.5 310.5,-106.5 \" stroke=\"black\"/>\n",
       "<text font-family=\"Times New Roman,serif\" font-size=\"14.00\" text-anchor=\"middle\" x=\"261.5\" y=\"-91.3\">(None, 4, 4, 3)</text>\n",
       "</g>\n",
       "<!-- 2876781042488&#45;&gt;2876658118896 -->\n",
       "<g class=\"edge\" id=\"edge1\"><title>2876781042488-&gt;2876658118896</title>\n",
       "<path d=\"M167.5,-166.366C167.5,-158.152 167.5,-148.658 167.5,-139.725\" fill=\"none\" stroke=\"black\"/>\n",
       "<polygon fill=\"black\" points=\"171,-139.607 167.5,-129.607 164,-139.607 171,-139.607\" stroke=\"black\"/>\n",
       "</g>\n",
       "<!-- 2876663036896 -->\n",
       "<g class=\"node\" id=\"node3\"><title>2876663036896</title>\n",
       "<polygon fill=\"none\" points=\"24.5,-0.5 24.5,-46.5 310.5,-46.5 310.5,-0.5 24.5,-0.5\" stroke=\"black\"/>\n",
       "<text font-family=\"Times New Roman,serif\" font-size=\"14.00\" text-anchor=\"middle\" x=\"90.5\" y=\"-19.8\">Conv2D_2: Conv2D</text>\n",
       "<polyline fill=\"none\" points=\"156.5,-0.5 156.5,-46.5 \" stroke=\"black\"/>\n",
       "<text font-family=\"Times New Roman,serif\" font-size=\"14.00\" text-anchor=\"middle\" x=\"184.5\" y=\"-31.3\">input:</text>\n",
       "<polyline fill=\"none\" points=\"156.5,-23.5 212.5,-23.5 \" stroke=\"black\"/>\n",
       "<text font-family=\"Times New Roman,serif\" font-size=\"14.00\" text-anchor=\"middle\" x=\"184.5\" y=\"-8.3\">output:</text>\n",
       "<polyline fill=\"none\" points=\"212.5,-0.5 212.5,-46.5 \" stroke=\"black\"/>\n",
       "<text font-family=\"Times New Roman,serif\" font-size=\"14.00\" text-anchor=\"middle\" x=\"261.5\" y=\"-31.3\">(None, 4, 4, 3)</text>\n",
       "<polyline fill=\"none\" points=\"212.5,-23.5 310.5,-23.5 \" stroke=\"black\"/>\n",
       "<text font-family=\"Times New Roman,serif\" font-size=\"14.00\" text-anchor=\"middle\" x=\"261.5\" y=\"-8.3\">(None, 2, 2, 2)</text>\n",
       "</g>\n",
       "<!-- 2876658118896&#45;&gt;2876663036896 -->\n",
       "<g class=\"edge\" id=\"edge2\"><title>2876658118896-&gt;2876663036896</title>\n",
       "<path d=\"M167.5,-83.3664C167.5,-75.1516 167.5,-65.6579 167.5,-56.7252\" fill=\"none\" stroke=\"black\"/>\n",
       "<polygon fill=\"black\" points=\"171,-56.6068 167.5,-46.6068 164,-56.6069 171,-56.6068\" stroke=\"black\"/>\n",
       "</g>\n",
       "</g>\n",
       "</svg>"
      ],
      "text/plain": [
       "<IPython.core.display.SVG object>"
      ]
     },
     "execution_count": 1,
     "metadata": {},
     "output_type": "execute_result"
    }
   ],
   "source": [
    "# CNN Model 2 - two layers\n",
    "from keras.models import Sequential, Model\n",
    "from keras.layers import Conv2D\n",
    "from keras.utils import np_utils\n",
    "\n",
    "from IPython.display import SVG\n",
    "from keras.utils.vis_utils import model_to_dot\n",
    "\n",
    "import os\n",
    "os.environ[\"PATH\"] += os.pathsep + 'C:/Program Files (x86)/Graphviz2.38/bin/'\n",
    "\n",
    "model = Sequential()\n",
    "model.add(Conv2D(filters=3, kernel_size=(3, 3), input_shape=(6, 6, 1), name='Conv2D_1'))\n",
    "model.add(Conv2D(filters=2, kernel_size=(3, 3), name='Conv2D_2'))\n",
    "\n",
    "SVG(model_to_dot(model, show_shapes=True, dpi=65).create(prog='dot', format='svg'))"
   ]
  }
 ],
 "metadata": {
  "kernelspec": {
   "display_name": "Python [conda env:tensorflow-gpu] *",
   "language": "python",
   "name": "conda-env-tensorflow-gpu-py"
  },
  "language_info": {
   "codemirror_mode": {
    "name": "ipython",
    "version": 3
   },
   "file_extension": ".py",
   "mimetype": "text/x-python",
   "name": "python",
   "nbconvert_exporter": "python",
   "pygments_lexer": "ipython3",
   "version": "3.6.7"
  }
 },
 "nbformat": 4,
 "nbformat_minor": 4
}
