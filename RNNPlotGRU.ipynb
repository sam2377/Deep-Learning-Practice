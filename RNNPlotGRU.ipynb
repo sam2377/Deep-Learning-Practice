{
 "cells": [
  {
   "cell_type": "code",
   "execution_count": 4,
   "metadata": {},
   "outputs": [
    {
     "data": {
      "image/svg+xml": [
       "<svg height=\"125pt\" viewBox=\"0.00 0.00 268.00 138.00\" width=\"242pt\" xmlns=\"http://www.w3.org/2000/svg\" xmlns:xlink=\"http://www.w3.org/1999/xlink\">\n",
       "<g class=\"graph\" id=\"graph0\" transform=\"scale(0.902778 0.902778) rotate(0) translate(4 134)\">\n",
       "<title>G</title>\n",
       "<polygon fill=\"white\" points=\"-4,4 -4,-134 264,-134 264,4 -4,4\" stroke=\"none\"/>\n",
       "<!-- 1674617643080 -->\n",
       "<g class=\"node\" id=\"node1\"><title>1674617643080</title>\n",
       "<polygon fill=\"none\" points=\"0,-83.5 0,-129.5 260,-129.5 260,-83.5 0,-83.5\" stroke=\"black\"/>\n",
       "<text font-family=\"Times New Roman,serif\" font-size=\"14.00\" text-anchor=\"middle\" x=\"56.5\" y=\"-102.8\">Input: InputLayer</text>\n",
       "<polyline fill=\"none\" points=\"113,-83.5 113,-129.5 \" stroke=\"black\"/>\n",
       "<text font-family=\"Times New Roman,serif\" font-size=\"14.00\" text-anchor=\"middle\" x=\"141\" y=\"-114.3\">input:</text>\n",
       "<polyline fill=\"none\" points=\"113,-106.5 169,-106.5 \" stroke=\"black\"/>\n",
       "<text font-family=\"Times New Roman,serif\" font-size=\"14.00\" text-anchor=\"middle\" x=\"141\" y=\"-91.3\">output:</text>\n",
       "<polyline fill=\"none\" points=\"169,-83.5 169,-129.5 \" stroke=\"black\"/>\n",
       "<text font-family=\"Times New Roman,serif\" font-size=\"14.00\" text-anchor=\"middle\" x=\"214.5\" y=\"-114.3\">(None, 5, 15)</text>\n",
       "<polyline fill=\"none\" points=\"169,-106.5 260,-106.5 \" stroke=\"black\"/>\n",
       "<text font-family=\"Times New Roman,serif\" font-size=\"14.00\" text-anchor=\"middle\" x=\"214.5\" y=\"-91.3\">(None, 5, 15)</text>\n",
       "</g>\n",
       "<!-- 1674624065664 -->\n",
       "<g class=\"node\" id=\"node2\"><title>1674624065664</title>\n",
       "<polygon fill=\"none\" points=\"7.5,-0.5 7.5,-46.5 252.5,-46.5 252.5,-0.5 7.5,-0.5\" stroke=\"black\"/>\n",
       "<text font-family=\"Times New Roman,serif\" font-size=\"14.00\" text-anchor=\"middle\" x=\"56.5\" y=\"-19.8\">GRU_1: GRU</text>\n",
       "<polyline fill=\"none\" points=\"105.5,-0.5 105.5,-46.5 \" stroke=\"black\"/>\n",
       "<text font-family=\"Times New Roman,serif\" font-size=\"14.00\" text-anchor=\"middle\" x=\"133.5\" y=\"-31.3\">input:</text>\n",
       "<polyline fill=\"none\" points=\"105.5,-23.5 161.5,-23.5 \" stroke=\"black\"/>\n",
       "<text font-family=\"Times New Roman,serif\" font-size=\"14.00\" text-anchor=\"middle\" x=\"133.5\" y=\"-8.3\">output:</text>\n",
       "<polyline fill=\"none\" points=\"161.5,-0.5 161.5,-46.5 \" stroke=\"black\"/>\n",
       "<text font-family=\"Times New Roman,serif\" font-size=\"14.00\" text-anchor=\"middle\" x=\"207\" y=\"-31.3\">(None, 5, 15)</text>\n",
       "<polyline fill=\"none\" points=\"161.5,-23.5 252.5,-23.5 \" stroke=\"black\"/>\n",
       "<text font-family=\"Times New Roman,serif\" font-size=\"14.00\" text-anchor=\"middle\" x=\"207\" y=\"-8.3\">(None, 10)</text>\n",
       "</g>\n",
       "<!-- 1674617643080&#45;&gt;1674624065664 -->\n",
       "<g class=\"edge\" id=\"edge1\"><title>1674617643080-&gt;1674624065664</title>\n",
       "<path d=\"M130,-83.3664C130,-75.1516 130,-65.6579 130,-56.7252\" fill=\"none\" stroke=\"black\"/>\n",
       "<polygon fill=\"black\" points=\"133.5,-56.6068 130,-46.6068 126.5,-56.6069 133.5,-56.6068\" stroke=\"black\"/>\n",
       "</g>\n",
       "</g>\n",
       "</svg>"
      ],
      "text/plain": [
       "<IPython.core.display.SVG object>"
      ]
     },
     "execution_count": 4,
     "metadata": {},
     "output_type": "execute_result"
    }
   ],
   "source": [
    "# RNN Model 3 - GRU\n",
    "from keras.models import Model\n",
    "from keras.layers import Input, GRU\n",
    "from IPython.display import SVG\n",
    "from keras.utils.vis_utils import model_to_dot\n",
    "\n",
    "units = 10\n",
    "time_steps = 5\n",
    "input_dim = 15\n",
    "input_shape = (time_steps, input_dim)\n",
    "\n",
    "x = Input(shape=input_shape, name='Input')\n",
    "y = GRU(units=units, activation='sigmoid', name='GRU_1')(x)\n",
    "model = Model(inputs=[x], outputs=[y])\n",
    "\n",
    "SVG(model_to_dot(model, show_shapes=True, dpi=65).create(prog='dot', format='svg'))"
   ]
  },
  {
   "cell_type": "code",
   "execution_count": 5,
   "metadata": {},
   "outputs": [
    {
     "data": {
      "image/svg+xml": [
       "<svg height=\"125pt\" viewBox=\"0.00 0.00 268.00 138.00\" width=\"242pt\" xmlns=\"http://www.w3.org/2000/svg\" xmlns:xlink=\"http://www.w3.org/1999/xlink\">\n",
       "<g class=\"graph\" id=\"graph0\" transform=\"scale(0.902778 0.902778) rotate(0) translate(4 134)\">\n",
       "<title>G</title>\n",
       "<polygon fill=\"white\" points=\"-4,4 -4,-134 264,-134 264,4 -4,4\" stroke=\"none\"/>\n",
       "<!-- 1674617643080 -->\n",
       "<g class=\"node\" id=\"node1\"><title>1674617643080</title>\n",
       "<polygon fill=\"none\" points=\"0,-83.5 0,-129.5 260,-129.5 260,-83.5 0,-83.5\" stroke=\"black\"/>\n",
       "<text font-family=\"Times New Roman,serif\" font-size=\"14.00\" text-anchor=\"middle\" x=\"56.5\" y=\"-102.8\">Input: InputLayer</text>\n",
       "<polyline fill=\"none\" points=\"113,-83.5 113,-129.5 \" stroke=\"black\"/>\n",
       "<text font-family=\"Times New Roman,serif\" font-size=\"14.00\" text-anchor=\"middle\" x=\"141\" y=\"-114.3\">input:</text>\n",
       "<polyline fill=\"none\" points=\"113,-106.5 169,-106.5 \" stroke=\"black\"/>\n",
       "<text font-family=\"Times New Roman,serif\" font-size=\"14.00\" text-anchor=\"middle\" x=\"141\" y=\"-91.3\">output:</text>\n",
       "<polyline fill=\"none\" points=\"169,-83.5 169,-129.5 \" stroke=\"black\"/>\n",
       "<text font-family=\"Times New Roman,serif\" font-size=\"14.00\" text-anchor=\"middle\" x=\"214.5\" y=\"-114.3\">(None, 5, 15)</text>\n",
       "<polyline fill=\"none\" points=\"169,-106.5 260,-106.5 \" stroke=\"black\"/>\n",
       "<text font-family=\"Times New Roman,serif\" font-size=\"14.00\" text-anchor=\"middle\" x=\"214.5\" y=\"-91.3\">(None, 5, 15)</text>\n",
       "</g>\n",
       "<!-- 1674617793896 -->\n",
       "<g class=\"node\" id=\"node2\"><title>1674617793896</title>\n",
       "<polygon fill=\"none\" points=\"7.5,-0.5 7.5,-46.5 252.5,-46.5 252.5,-0.5 7.5,-0.5\" stroke=\"black\"/>\n",
       "<text font-family=\"Times New Roman,serif\" font-size=\"14.00\" text-anchor=\"middle\" x=\"56.5\" y=\"-19.8\">GRU_1: GRU</text>\n",
       "<polyline fill=\"none\" points=\"105.5,-0.5 105.5,-46.5 \" stroke=\"black\"/>\n",
       "<text font-family=\"Times New Roman,serif\" font-size=\"14.00\" text-anchor=\"middle\" x=\"133.5\" y=\"-31.3\">input:</text>\n",
       "<polyline fill=\"none\" points=\"105.5,-23.5 161.5,-23.5 \" stroke=\"black\"/>\n",
       "<text font-family=\"Times New Roman,serif\" font-size=\"14.00\" text-anchor=\"middle\" x=\"133.5\" y=\"-8.3\">output:</text>\n",
       "<polyline fill=\"none\" points=\"161.5,-0.5 161.5,-46.5 \" stroke=\"black\"/>\n",
       "<text font-family=\"Times New Roman,serif\" font-size=\"14.00\" text-anchor=\"middle\" x=\"207\" y=\"-31.3\">(None, 5, 15)</text>\n",
       "<polyline fill=\"none\" points=\"161.5,-23.5 252.5,-23.5 \" stroke=\"black\"/>\n",
       "<text font-family=\"Times New Roman,serif\" font-size=\"14.00\" text-anchor=\"middle\" x=\"207\" y=\"-8.3\">(None, 5, 10)</text>\n",
       "</g>\n",
       "<!-- 1674617643080&#45;&gt;1674617793896 -->\n",
       "<g class=\"edge\" id=\"edge1\"><title>1674617643080-&gt;1674617793896</title>\n",
       "<path d=\"M130,-83.3664C130,-75.1516 130,-65.6579 130,-56.7252\" fill=\"none\" stroke=\"black\"/>\n",
       "<polygon fill=\"black\" points=\"133.5,-56.6068 130,-46.6068 126.5,-56.6069 133.5,-56.6068\" stroke=\"black\"/>\n",
       "</g>\n",
       "</g>\n",
       "</svg>"
      ],
      "text/plain": [
       "<IPython.core.display.SVG object>"
      ]
     },
     "execution_count": 5,
     "metadata": {},
     "output_type": "execute_result"
    }
   ],
   "source": [
    "y = GRU(units=units, activation='sigmoid', return_sequences=True, name='GRU_1')(x)\n",
    "model = Model(inputs=[x], outputs=[y])\n",
    "\n",
    "SVG(model_to_dot(model, show_shapes=True, dpi=65).create(prog='dot', format='svg'))"
   ]
  },
  {
   "cell_type": "code",
   "execution_count": 6,
   "metadata": {},
   "outputs": [
    {
     "data": {
      "image/svg+xml": [
       "<svg height=\"125pt\" viewBox=\"0.00 0.00 315.00 138.00\" width=\"284pt\" xmlns=\"http://www.w3.org/2000/svg\" xmlns:xlink=\"http://www.w3.org/1999/xlink\">\n",
       "<g class=\"graph\" id=\"graph0\" transform=\"scale(0.902778 0.902778) rotate(0) translate(4 134)\">\n",
       "<title>G</title>\n",
       "<polygon fill=\"white\" points=\"-4,4 -4,-134 311,-134 311,4 -4,4\" stroke=\"none\"/>\n",
       "<!-- 1674617643080 -->\n",
       "<g class=\"node\" id=\"node1\"><title>1674617643080</title>\n",
       "<polygon fill=\"none\" points=\"23.5,-83.5 23.5,-129.5 283.5,-129.5 283.5,-83.5 23.5,-83.5\" stroke=\"black\"/>\n",
       "<text font-family=\"Times New Roman,serif\" font-size=\"14.00\" text-anchor=\"middle\" x=\"80\" y=\"-102.8\">Input: InputLayer</text>\n",
       "<polyline fill=\"none\" points=\"136.5,-83.5 136.5,-129.5 \" stroke=\"black\"/>\n",
       "<text font-family=\"Times New Roman,serif\" font-size=\"14.00\" text-anchor=\"middle\" x=\"164.5\" y=\"-114.3\">input:</text>\n",
       "<polyline fill=\"none\" points=\"136.5,-106.5 192.5,-106.5 \" stroke=\"black\"/>\n",
       "<text font-family=\"Times New Roman,serif\" font-size=\"14.00\" text-anchor=\"middle\" x=\"164.5\" y=\"-91.3\">output:</text>\n",
       "<polyline fill=\"none\" points=\"192.5,-83.5 192.5,-129.5 \" stroke=\"black\"/>\n",
       "<text font-family=\"Times New Roman,serif\" font-size=\"14.00\" text-anchor=\"middle\" x=\"238\" y=\"-114.3\">(None, 5, 15)</text>\n",
       "<polyline fill=\"none\" points=\"192.5,-106.5 283.5,-106.5 \" stroke=\"black\"/>\n",
       "<text font-family=\"Times New Roman,serif\" font-size=\"14.00\" text-anchor=\"middle\" x=\"238\" y=\"-91.3\">(None, 5, 15)</text>\n",
       "</g>\n",
       "<!-- 1674633718360 -->\n",
       "<g class=\"node\" id=\"node2\"><title>1674633718360</title>\n",
       "<polygon fill=\"none\" points=\"0,-0.5 0,-46.5 307,-46.5 307,-0.5 0,-0.5\" stroke=\"black\"/>\n",
       "<text font-family=\"Times New Roman,serif\" font-size=\"14.00\" text-anchor=\"middle\" x=\"49\" y=\"-19.8\">GRU_1: GRU</text>\n",
       "<polyline fill=\"none\" points=\"98,-0.5 98,-46.5 \" stroke=\"black\"/>\n",
       "<text font-family=\"Times New Roman,serif\" font-size=\"14.00\" text-anchor=\"middle\" x=\"126\" y=\"-31.3\">input:</text>\n",
       "<polyline fill=\"none\" points=\"98,-23.5 154,-23.5 \" stroke=\"black\"/>\n",
       "<text font-family=\"Times New Roman,serif\" font-size=\"14.00\" text-anchor=\"middle\" x=\"126\" y=\"-8.3\">output:</text>\n",
       "<polyline fill=\"none\" points=\"154,-0.5 154,-46.5 \" stroke=\"black\"/>\n",
       "<text font-family=\"Times New Roman,serif\" font-size=\"14.00\" text-anchor=\"middle\" x=\"230.5\" y=\"-31.3\">(None, 5, 15)</text>\n",
       "<polyline fill=\"none\" points=\"154,-23.5 307,-23.5 \" stroke=\"black\"/>\n",
       "<text font-family=\"Times New Roman,serif\" font-size=\"14.00\" text-anchor=\"middle\" x=\"230.5\" y=\"-8.3\">[(None, 10), (None, 10)]</text>\n",
       "</g>\n",
       "<!-- 1674617643080&#45;&gt;1674633718360 -->\n",
       "<g class=\"edge\" id=\"edge1\"><title>1674617643080-&gt;1674633718360</title>\n",
       "<path d=\"M153.5,-83.3664C153.5,-75.1516 153.5,-65.6579 153.5,-56.7252\" fill=\"none\" stroke=\"black\"/>\n",
       "<polygon fill=\"black\" points=\"157,-56.6068 153.5,-46.6068 150,-56.6069 157,-56.6068\" stroke=\"black\"/>\n",
       "</g>\n",
       "</g>\n",
       "</svg>"
      ],
      "text/plain": [
       "<IPython.core.display.SVG object>"
      ]
     },
     "execution_count": 6,
     "metadata": {},
     "output_type": "execute_result"
    }
   ],
   "source": [
    "y, state = GRU(units=units, activation='sigmoid', return_state=True, name='GRU_1')(x)\n",
    "model = Model(inputs=[x], outputs=[y])\n",
    "\n",
    "SVG(model_to_dot(model, show_shapes=True, dpi=65).create(prog='dot', format='svg'))"
   ]
  }
 ],
 "metadata": {
  "kernelspec": {
   "display_name": "Python [conda env:tensorflow-gpu] *",
   "language": "python",
   "name": "conda-env-tensorflow-gpu-py"
  },
  "language_info": {
   "codemirror_mode": {
    "name": "ipython",
    "version": 3
   },
   "file_extension": ".py",
   "mimetype": "text/x-python",
   "name": "python",
   "nbconvert_exporter": "python",
   "pygments_lexer": "ipython3",
   "version": "3.6.7"
  }
 },
 "nbformat": 4,
 "nbformat_minor": 4
}
