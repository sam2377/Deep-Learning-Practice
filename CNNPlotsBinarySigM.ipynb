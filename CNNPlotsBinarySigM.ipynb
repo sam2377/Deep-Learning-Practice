{
 "cells": [
  {
   "cell_type": "code",
   "execution_count": 1,
   "metadata": {},
   "outputs": [
    {
     "name": "stderr",
     "output_type": "stream",
     "text": [
      "Using TensorFlow backend.\n"
     ]
    },
    {
     "data": {
      "image/svg+xml": [
       "<svg height=\"274pt\" viewBox=\"0.00 0.00 343.00 304.00\" width=\"310pt\" xmlns=\"http://www.w3.org/2000/svg\" xmlns:xlink=\"http://www.w3.org/1999/xlink\">\n",
       "<g class=\"graph\" id=\"graph0\" transform=\"scale(0.902778 0.902778) rotate(0) translate(4 300)\">\n",
       "<title>G</title>\n",
       "<polygon fill=\"white\" points=\"-4,4 -4,-300 339,-300 339,4 -4,4\" stroke=\"none\"/>\n",
       "<!-- 1378718769280 -->\n",
       "<g class=\"node\" id=\"node1\"><title>1378718769280</title>\n",
       "<polygon fill=\"none\" points=\"0,-249.5 0,-295.5 335,-295.5 335,-249.5 0,-249.5\" stroke=\"black\"/>\n",
       "<text font-family=\"Times New Roman,serif\" font-size=\"14.00\" text-anchor=\"middle\" x=\"90.5\" y=\"-268.8\">Conv2D_1_input: InputLayer</text>\n",
       "<polyline fill=\"none\" points=\"181,-249.5 181,-295.5 \" stroke=\"black\"/>\n",
       "<text font-family=\"Times New Roman,serif\" font-size=\"14.00\" text-anchor=\"middle\" x=\"209\" y=\"-280.3\">input:</text>\n",
       "<polyline fill=\"none\" points=\"181,-272.5 237,-272.5 \" stroke=\"black\"/>\n",
       "<text font-family=\"Times New Roman,serif\" font-size=\"14.00\" text-anchor=\"middle\" x=\"209\" y=\"-257.3\">output:</text>\n",
       "<polyline fill=\"none\" points=\"237,-249.5 237,-295.5 \" stroke=\"black\"/>\n",
       "<text font-family=\"Times New Roman,serif\" font-size=\"14.00\" text-anchor=\"middle\" x=\"286\" y=\"-280.3\">(None, 6, 6, 1)</text>\n",
       "<polyline fill=\"none\" points=\"237,-272.5 335,-272.5 \" stroke=\"black\"/>\n",
       "<text font-family=\"Times New Roman,serif\" font-size=\"14.00\" text-anchor=\"middle\" x=\"286\" y=\"-257.3\">(None, 6, 6, 1)</text>\n",
       "</g>\n",
       "<!-- 1380754156680 -->\n",
       "<g class=\"node\" id=\"node2\"><title>1380754156680</title>\n",
       "<polygon fill=\"none\" points=\"24.5,-166.5 24.5,-212.5 310.5,-212.5 310.5,-166.5 24.5,-166.5\" stroke=\"black\"/>\n",
       "<text font-family=\"Times New Roman,serif\" font-size=\"14.00\" text-anchor=\"middle\" x=\"90.5\" y=\"-185.8\">Conv2D_1: Conv2D</text>\n",
       "<polyline fill=\"none\" points=\"156.5,-166.5 156.5,-212.5 \" stroke=\"black\"/>\n",
       "<text font-family=\"Times New Roman,serif\" font-size=\"14.00\" text-anchor=\"middle\" x=\"184.5\" y=\"-197.3\">input:</text>\n",
       "<polyline fill=\"none\" points=\"156.5,-189.5 212.5,-189.5 \" stroke=\"black\"/>\n",
       "<text font-family=\"Times New Roman,serif\" font-size=\"14.00\" text-anchor=\"middle\" x=\"184.5\" y=\"-174.3\">output:</text>\n",
       "<polyline fill=\"none\" points=\"212.5,-166.5 212.5,-212.5 \" stroke=\"black\"/>\n",
       "<text font-family=\"Times New Roman,serif\" font-size=\"14.00\" text-anchor=\"middle\" x=\"261.5\" y=\"-197.3\">(None, 6, 6, 1)</text>\n",
       "<polyline fill=\"none\" points=\"212.5,-189.5 310.5,-189.5 \" stroke=\"black\"/>\n",
       "<text font-family=\"Times New Roman,serif\" font-size=\"14.00\" text-anchor=\"middle\" x=\"261.5\" y=\"-174.3\">(None, 6, 6, 3)</text>\n",
       "</g>\n",
       "<!-- 1378718769280&#45;&gt;1380754156680 -->\n",
       "<g class=\"edge\" id=\"edge1\"><title>1378718769280-&gt;1380754156680</title>\n",
       "<path d=\"M167.5,-249.366C167.5,-241.152 167.5,-231.658 167.5,-222.725\" fill=\"none\" stroke=\"black\"/>\n",
       "<polygon fill=\"black\" points=\"171,-222.607 167.5,-212.607 164,-222.607 171,-222.607\" stroke=\"black\"/>\n",
       "</g>\n",
       "<!-- 1380742243776 -->\n",
       "<g class=\"node\" id=\"node3\"><title>1380742243776</title>\n",
       "<polygon fill=\"none\" points=\"34,-83.5 34,-129.5 301,-129.5 301,-83.5 34,-83.5\" stroke=\"black\"/>\n",
       "<text font-family=\"Times New Roman,serif\" font-size=\"14.00\" text-anchor=\"middle\" x=\"90.5\" y=\"-102.8\">Flatten_1: Flatten</text>\n",
       "<polyline fill=\"none\" points=\"147,-83.5 147,-129.5 \" stroke=\"black\"/>\n",
       "<text font-family=\"Times New Roman,serif\" font-size=\"14.00\" text-anchor=\"middle\" x=\"175\" y=\"-114.3\">input:</text>\n",
       "<polyline fill=\"none\" points=\"147,-106.5 203,-106.5 \" stroke=\"black\"/>\n",
       "<text font-family=\"Times New Roman,serif\" font-size=\"14.00\" text-anchor=\"middle\" x=\"175\" y=\"-91.3\">output:</text>\n",
       "<polyline fill=\"none\" points=\"203,-83.5 203,-129.5 \" stroke=\"black\"/>\n",
       "<text font-family=\"Times New Roman,serif\" font-size=\"14.00\" text-anchor=\"middle\" x=\"252\" y=\"-114.3\">(None, 6, 6, 3)</text>\n",
       "<polyline fill=\"none\" points=\"203,-106.5 301,-106.5 \" stroke=\"black\"/>\n",
       "<text font-family=\"Times New Roman,serif\" font-size=\"14.00\" text-anchor=\"middle\" x=\"252\" y=\"-91.3\">(None, 108)</text>\n",
       "</g>\n",
       "<!-- 1380754156680&#45;&gt;1380742243776 -->\n",
       "<g class=\"edge\" id=\"edge2\"><title>1380754156680-&gt;1380742243776</title>\n",
       "<path d=\"M167.5,-166.366C167.5,-158.152 167.5,-148.658 167.5,-139.725\" fill=\"none\" stroke=\"black\"/>\n",
       "<polygon fill=\"black\" points=\"171,-139.607 167.5,-129.607 164,-139.607 171,-139.607\" stroke=\"black\"/>\n",
       "</g>\n",
       "<!-- 1378718906296 -->\n",
       "<g class=\"node\" id=\"node4\"><title>1378718906296</title>\n",
       "<polygon fill=\"none\" points=\"44.5,-0.5 44.5,-46.5 290.5,-46.5 290.5,-0.5 44.5,-0.5\" stroke=\"black\"/>\n",
       "<text font-family=\"Times New Roman,serif\" font-size=\"14.00\" text-anchor=\"middle\" x=\"98\" y=\"-19.8\">Dense_1: Dense</text>\n",
       "<polyline fill=\"none\" points=\"151.5,-0.5 151.5,-46.5 \" stroke=\"black\"/>\n",
       "<text font-family=\"Times New Roman,serif\" font-size=\"14.00\" text-anchor=\"middle\" x=\"179.5\" y=\"-31.3\">input:</text>\n",
       "<polyline fill=\"none\" points=\"151.5,-23.5 207.5,-23.5 \" stroke=\"black\"/>\n",
       "<text font-family=\"Times New Roman,serif\" font-size=\"14.00\" text-anchor=\"middle\" x=\"179.5\" y=\"-8.3\">output:</text>\n",
       "<polyline fill=\"none\" points=\"207.5,-0.5 207.5,-46.5 \" stroke=\"black\"/>\n",
       "<text font-family=\"Times New Roman,serif\" font-size=\"14.00\" text-anchor=\"middle\" x=\"249\" y=\"-31.3\">(None, 108)</text>\n",
       "<polyline fill=\"none\" points=\"207.5,-23.5 290.5,-23.5 \" stroke=\"black\"/>\n",
       "<text font-family=\"Times New Roman,serif\" font-size=\"14.00\" text-anchor=\"middle\" x=\"249\" y=\"-8.3\">(None, 1)</text>\n",
       "</g>\n",
       "<!-- 1380742243776&#45;&gt;1378718906296 -->\n",
       "<g class=\"edge\" id=\"edge3\"><title>1380742243776-&gt;1378718906296</title>\n",
       "<path d=\"M167.5,-83.3664C167.5,-75.1516 167.5,-65.6579 167.5,-56.7252\" fill=\"none\" stroke=\"black\"/>\n",
       "<polygon fill=\"black\" points=\"171,-56.6068 167.5,-46.6068 164,-56.6069 171,-56.6068\" stroke=\"black\"/>\n",
       "</g>\n",
       "</g>\n",
       "</svg>"
      ],
      "text/plain": [
       "<IPython.core.display.SVG object>"
      ]
     },
     "execution_count": 1,
     "metadata": {},
     "output_type": "execute_result"
    }
   ],
   "source": [
    "# CNN Model 8 - Binary Sigmoid\n",
    "from keras.models import Sequential, Model\n",
    "from keras.layers import Dense, Activation, Flatten, Conv2D\n",
    "from keras.utils import np_utils\n",
    "from IPython.display import SVG\n",
    "from keras.utils.vis_utils import model_to_dot\n",
    "\n",
    "import os\n",
    "os.environ[\"PATH\"] += os.pathsep + 'C:/Program Files (x86)/Graphviz2.38/bin/'\n",
    "\n",
    "model = Sequential()\n",
    "model.add(Conv2D(filters=3, kernel_size=(3, 3), input_shape=(6, 6, 1), padding='same', name='Conv2D_1'))\n",
    "model.add(Flatten(name='Flatten_1'))\n",
    "model.add(Dense(units=1, activation='sigmoid', name='Dense_1'))\n",
    "\n",
    "SVG(model_to_dot(model, show_shapes=True, dpi=65).create(prog='dot', format='svg'))"
   ]
  }
 ],
 "metadata": {
  "kernelspec": {
   "display_name": "Python [conda env:tensorflow-gpu] *",
   "language": "python",
   "name": "conda-env-tensorflow-gpu-py"
  },
  "language_info": {
   "codemirror_mode": {
    "name": "ipython",
    "version": 3
   },
   "file_extension": ".py",
   "mimetype": "text/x-python",
   "name": "python",
   "nbconvert_exporter": "python",
   "pygments_lexer": "ipython3",
   "version": "3.6.7"
  }
 },
 "nbformat": 4,
 "nbformat_minor": 4
}
