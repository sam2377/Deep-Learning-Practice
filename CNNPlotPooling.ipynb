{
 "cells": [
  {
   "cell_type": "code",
   "execution_count": 1,
   "metadata": {},
   "outputs": [
    {
     "name": "stderr",
     "output_type": "stream",
     "text": [
      "Using TensorFlow backend.\n"
     ]
    },
    {
     "name": "stdout",
     "output_type": "stream",
     "text": [
      "WARNING:tensorflow:From C:\\Users\\user\\Anaconda3\\envs\\tensorflow-gpu\\lib\\site-packages\\keras\\backend\\tensorflow_backend.py:4070: The name tf.nn.max_pool is deprecated. Please use tf.nn.max_pool2d instead.\n",
      "\n"
     ]
    },
    {
     "data": {
      "image/svg+xml": [
       "<svg height=\"295pt\" viewBox=\"0.00 0.00 368.00 221.00\" width=\"491pt\" xmlns=\"http://www.w3.org/2000/svg\" xmlns:xlink=\"http://www.w3.org/1999/xlink\">\n",
       "<g class=\"graph\" id=\"graph0\" transform=\"scale(1.33333 1.33333) rotate(0) translate(4 217)\">\n",
       "<title>G</title>\n",
       "<polygon fill=\"white\" points=\"-4,4 -4,-217 364,-217 364,4 -4,4\" stroke=\"none\"/>\n",
       "<!-- 3021286286896 -->\n",
       "<g class=\"node\" id=\"node1\"><title>3021286286896</title>\n",
       "<polygon fill=\"none\" points=\"12.5,-166.5 12.5,-212.5 347.5,-212.5 347.5,-166.5 12.5,-166.5\" stroke=\"black\"/>\n",
       "<text font-family=\"Times New Roman,serif\" font-size=\"14.00\" text-anchor=\"middle\" x=\"103\" y=\"-185.8\">Conv2D_1_input: InputLayer</text>\n",
       "<polyline fill=\"none\" points=\"193.5,-166.5 193.5,-212.5 \" stroke=\"black\"/>\n",
       "<text font-family=\"Times New Roman,serif\" font-size=\"14.00\" text-anchor=\"middle\" x=\"221.5\" y=\"-197.3\">input:</text>\n",
       "<polyline fill=\"none\" points=\"193.5,-189.5 249.5,-189.5 \" stroke=\"black\"/>\n",
       "<text font-family=\"Times New Roman,serif\" font-size=\"14.00\" text-anchor=\"middle\" x=\"221.5\" y=\"-174.3\">output:</text>\n",
       "<polyline fill=\"none\" points=\"249.5,-166.5 249.5,-212.5 \" stroke=\"black\"/>\n",
       "<text font-family=\"Times New Roman,serif\" font-size=\"14.00\" text-anchor=\"middle\" x=\"298.5\" y=\"-197.3\">(None, 6, 6, 1)</text>\n",
       "<polyline fill=\"none\" points=\"249.5,-189.5 347.5,-189.5 \" stroke=\"black\"/>\n",
       "<text font-family=\"Times New Roman,serif\" font-size=\"14.00\" text-anchor=\"middle\" x=\"298.5\" y=\"-174.3\">(None, 6, 6, 1)</text>\n",
       "</g>\n",
       "<!-- 3021148931296 -->\n",
       "<g class=\"node\" id=\"node2\"><title>3021148931296</title>\n",
       "<polygon fill=\"none\" points=\"37,-83.5 37,-129.5 323,-129.5 323,-83.5 37,-83.5\" stroke=\"black\"/>\n",
       "<text font-family=\"Times New Roman,serif\" font-size=\"14.00\" text-anchor=\"middle\" x=\"103\" y=\"-102.8\">Conv2D_1: Conv2D</text>\n",
       "<polyline fill=\"none\" points=\"169,-83.5 169,-129.5 \" stroke=\"black\"/>\n",
       "<text font-family=\"Times New Roman,serif\" font-size=\"14.00\" text-anchor=\"middle\" x=\"197\" y=\"-114.3\">input:</text>\n",
       "<polyline fill=\"none\" points=\"169,-106.5 225,-106.5 \" stroke=\"black\"/>\n",
       "<text font-family=\"Times New Roman,serif\" font-size=\"14.00\" text-anchor=\"middle\" x=\"197\" y=\"-91.3\">output:</text>\n",
       "<polyline fill=\"none\" points=\"225,-83.5 225,-129.5 \" stroke=\"black\"/>\n",
       "<text font-family=\"Times New Roman,serif\" font-size=\"14.00\" text-anchor=\"middle\" x=\"274\" y=\"-114.3\">(None, 6, 6, 1)</text>\n",
       "<polyline fill=\"none\" points=\"225,-106.5 323,-106.5 \" stroke=\"black\"/>\n",
       "<text font-family=\"Times New Roman,serif\" font-size=\"14.00\" text-anchor=\"middle\" x=\"274\" y=\"-91.3\">(None, 2, 2, 3)</text>\n",
       "</g>\n",
       "<!-- 3021286286896&#45;&gt;3021148931296 -->\n",
       "<g class=\"edge\" id=\"edge1\"><title>3021286286896-&gt;3021148931296</title>\n",
       "<path d=\"M180,-166.366C180,-158.152 180,-148.658 180,-139.725\" fill=\"none\" stroke=\"black\"/>\n",
       "<polygon fill=\"black\" points=\"183.5,-139.607 180,-129.607 176.5,-139.607 183.5,-139.607\" stroke=\"black\"/>\n",
       "</g>\n",
       "<!-- 3021148943976 -->\n",
       "<g class=\"node\" id=\"node3\"><title>3021148943976</title>\n",
       "<polygon fill=\"none\" points=\"0,-0.5 0,-46.5 360,-46.5 360,-0.5 0,-0.5\" stroke=\"black\"/>\n",
       "<text font-family=\"Times New Roman,serif\" font-size=\"14.00\" text-anchor=\"middle\" x=\"103\" y=\"-19.8\">MaxPooling2D_1: MaxPooling2D</text>\n",
       "<polyline fill=\"none\" points=\"206,-0.5 206,-46.5 \" stroke=\"black\"/>\n",
       "<text font-family=\"Times New Roman,serif\" font-size=\"14.00\" text-anchor=\"middle\" x=\"234\" y=\"-31.3\">input:</text>\n",
       "<polyline fill=\"none\" points=\"206,-23.5 262,-23.5 \" stroke=\"black\"/>\n",
       "<text font-family=\"Times New Roman,serif\" font-size=\"14.00\" text-anchor=\"middle\" x=\"234\" y=\"-8.3\">output:</text>\n",
       "<polyline fill=\"none\" points=\"262,-0.5 262,-46.5 \" stroke=\"black\"/>\n",
       "<text font-family=\"Times New Roman,serif\" font-size=\"14.00\" text-anchor=\"middle\" x=\"311\" y=\"-31.3\">(None, 2, 2, 3)</text>\n",
       "<polyline fill=\"none\" points=\"262,-23.5 360,-23.5 \" stroke=\"black\"/>\n",
       "<text font-family=\"Times New Roman,serif\" font-size=\"14.00\" text-anchor=\"middle\" x=\"311\" y=\"-8.3\">(None, 1, 1, 3)</text>\n",
       "</g>\n",
       "<!-- 3021148931296&#45;&gt;3021148943976 -->\n",
       "<g class=\"edge\" id=\"edge2\"><title>3021148931296-&gt;3021148943976</title>\n",
       "<path d=\"M180,-83.3664C180,-75.1516 180,-65.6579 180,-56.7252\" fill=\"none\" stroke=\"black\"/>\n",
       "<polygon fill=\"black\" points=\"183.5,-56.6068 180,-46.6068 176.5,-56.6069 183.5,-56.6068\" stroke=\"black\"/>\n",
       "</g>\n",
       "</g>\n",
       "</svg>"
      ],
      "text/plain": [
       "<IPython.core.display.SVG object>"
      ]
     },
     "execution_count": 1,
     "metadata": {},
     "output_type": "execute_result"
    }
   ],
   "source": [
    "# CNN Model 6 - Pooling\n",
    "from keras.models import Sequential, Model\n",
    "from keras.layers import Conv2D, MaxPooling2D\n",
    "from keras.utils import np_utils\n",
    "from IPython.display import SVG\n",
    "from keras.utils.vis_utils import model_to_dot\n",
    "\n",
    "import os\n",
    "os.environ[\"PATH\"] += os.pathsep + 'C:/Program Files (x86)/Graphviz2.38/bin/'\n",
    "\n",
    "model = Sequential()\n",
    "model.add(Conv2D(filters=3, kernel_size=(3, 3), input_shape=(6, 6, 1), strides=2, name='Conv2D_1'))\n",
    "model.add(MaxPooling2D(pool_size=(2, 2), name='MaxPooling2D_1'))\n",
    "\n",
    "SVG(model_to_dot(model, show_shapes=True, dpi=65).create(prog='dot', format='svg'))"
   ]
  }
 ],
 "metadata": {
  "kernelspec": {
   "display_name": "Python [conda env:tensorflow-gpu] *",
   "language": "python",
   "name": "conda-env-tensorflow-gpu-py"
  },
  "language_info": {
   "codemirror_mode": {
    "name": "ipython",
    "version": 3
   },
   "file_extension": ".py",
   "mimetype": "text/x-python",
   "name": "python",
   "nbconvert_exporter": "python",
   "pygments_lexer": "ipython3",
   "version": "3.6.7"
  }
 },
 "nbformat": 4,
 "nbformat_minor": 4
}
