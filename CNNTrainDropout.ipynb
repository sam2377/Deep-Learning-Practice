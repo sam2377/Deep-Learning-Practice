{
 "cells": [
  {
   "cell_type": "code",
   "execution_count": 1,
   "metadata": {},
   "outputs": [
    {
     "name": "stderr",
     "output_type": "stream",
     "text": [
      "Using TensorFlow backend.\n"
     ]
    },
    {
     "data": {
      "image/svg+xml": [
       "<svg height=\"349pt\" viewBox=\"0.00 0.00 343.00 387.00\" width=\"310pt\" xmlns=\"http://www.w3.org/2000/svg\" xmlns:xlink=\"http://www.w3.org/1999/xlink\">\n",
       "<g class=\"graph\" id=\"graph0\" transform=\"scale(0.902778 0.902778) rotate(0) translate(4 383)\">\n",
       "<title>G</title>\n",
       "<polygon fill=\"white\" points=\"-4,4 -4,-383 339,-383 339,4 -4,4\" stroke=\"none\"/>\n",
       "<!-- 3229844293000 -->\n",
       "<g class=\"node\" id=\"node1\"><title>3229844293000</title>\n",
       "<polygon fill=\"none\" points=\"0,-332.5 0,-378.5 335,-378.5 335,-332.5 0,-332.5\" stroke=\"black\"/>\n",
       "<text font-family=\"Times New Roman,serif\" font-size=\"14.00\" text-anchor=\"middle\" x=\"90.5\" y=\"-351.8\">Conv2D_1_input: InputLayer</text>\n",
       "<polyline fill=\"none\" points=\"181,-332.5 181,-378.5 \" stroke=\"black\"/>\n",
       "<text font-family=\"Times New Roman,serif\" font-size=\"14.00\" text-anchor=\"middle\" x=\"209\" y=\"-363.3\">input:</text>\n",
       "<polyline fill=\"none\" points=\"181,-355.5 237,-355.5 \" stroke=\"black\"/>\n",
       "<text font-family=\"Times New Roman,serif\" font-size=\"14.00\" text-anchor=\"middle\" x=\"209\" y=\"-340.3\">output:</text>\n",
       "<polyline fill=\"none\" points=\"237,-332.5 237,-378.5 \" stroke=\"black\"/>\n",
       "<text font-family=\"Times New Roman,serif\" font-size=\"14.00\" text-anchor=\"middle\" x=\"286\" y=\"-363.3\">(None, 6, 6, 1)</text>\n",
       "<polyline fill=\"none\" points=\"237,-355.5 335,-355.5 \" stroke=\"black\"/>\n",
       "<text font-family=\"Times New Roman,serif\" font-size=\"14.00\" text-anchor=\"middle\" x=\"286\" y=\"-340.3\">(None, 6, 6, 1)</text>\n",
       "</g>\n",
       "<!-- 3231854548640 -->\n",
       "<g class=\"node\" id=\"node2\"><title>3231854548640</title>\n",
       "<polygon fill=\"none\" points=\"24.5,-249.5 24.5,-295.5 310.5,-295.5 310.5,-249.5 24.5,-249.5\" stroke=\"black\"/>\n",
       "<text font-family=\"Times New Roman,serif\" font-size=\"14.00\" text-anchor=\"middle\" x=\"90.5\" y=\"-268.8\">Conv2D_1: Conv2D</text>\n",
       "<polyline fill=\"none\" points=\"156.5,-249.5 156.5,-295.5 \" stroke=\"black\"/>\n",
       "<text font-family=\"Times New Roman,serif\" font-size=\"14.00\" text-anchor=\"middle\" x=\"184.5\" y=\"-280.3\">input:</text>\n",
       "<polyline fill=\"none\" points=\"156.5,-272.5 212.5,-272.5 \" stroke=\"black\"/>\n",
       "<text font-family=\"Times New Roman,serif\" font-size=\"14.00\" text-anchor=\"middle\" x=\"184.5\" y=\"-257.3\">output:</text>\n",
       "<polyline fill=\"none\" points=\"212.5,-249.5 212.5,-295.5 \" stroke=\"black\"/>\n",
       "<text font-family=\"Times New Roman,serif\" font-size=\"14.00\" text-anchor=\"middle\" x=\"261.5\" y=\"-280.3\">(None, 6, 6, 1)</text>\n",
       "<polyline fill=\"none\" points=\"212.5,-272.5 310.5,-272.5 \" stroke=\"black\"/>\n",
       "<text font-family=\"Times New Roman,serif\" font-size=\"14.00\" text-anchor=\"middle\" x=\"261.5\" y=\"-257.3\">(None, 4, 4, 3)</text>\n",
       "</g>\n",
       "<!-- 3229844293000&#45;&gt;3231854548640 -->\n",
       "<g class=\"edge\" id=\"edge1\"><title>3229844293000-&gt;3231854548640</title>\n",
       "<path d=\"M167.5,-332.366C167.5,-324.152 167.5,-314.658 167.5,-305.725\" fill=\"none\" stroke=\"black\"/>\n",
       "<polygon fill=\"black\" points=\"171,-305.607 167.5,-295.607 164,-305.607 171,-305.607\" stroke=\"black\"/>\n",
       "</g>\n",
       "<!-- 3229842311992 -->\n",
       "<g class=\"node\" id=\"node3\"><title>3229842311992</title>\n",
       "<polygon fill=\"none\" points=\"24.5,-166.5 24.5,-212.5 310.5,-212.5 310.5,-166.5 24.5,-166.5\" stroke=\"black\"/>\n",
       "<text font-family=\"Times New Roman,serif\" font-size=\"14.00\" text-anchor=\"middle\" x=\"90.5\" y=\"-185.8\">Dropout_1: Dropout</text>\n",
       "<polyline fill=\"none\" points=\"156.5,-166.5 156.5,-212.5 \" stroke=\"black\"/>\n",
       "<text font-family=\"Times New Roman,serif\" font-size=\"14.00\" text-anchor=\"middle\" x=\"184.5\" y=\"-197.3\">input:</text>\n",
       "<polyline fill=\"none\" points=\"156.5,-189.5 212.5,-189.5 \" stroke=\"black\"/>\n",
       "<text font-family=\"Times New Roman,serif\" font-size=\"14.00\" text-anchor=\"middle\" x=\"184.5\" y=\"-174.3\">output:</text>\n",
       "<polyline fill=\"none\" points=\"212.5,-166.5 212.5,-212.5 \" stroke=\"black\"/>\n",
       "<text font-family=\"Times New Roman,serif\" font-size=\"14.00\" text-anchor=\"middle\" x=\"261.5\" y=\"-197.3\">(None, 4, 4, 3)</text>\n",
       "<polyline fill=\"none\" points=\"212.5,-189.5 310.5,-189.5 \" stroke=\"black\"/>\n",
       "<text font-family=\"Times New Roman,serif\" font-size=\"14.00\" text-anchor=\"middle\" x=\"261.5\" y=\"-174.3\">(None, 4, 4, 3)</text>\n",
       "</g>\n",
       "<!-- 3231854548640&#45;&gt;3229842311992 -->\n",
       "<g class=\"edge\" id=\"edge2\"><title>3231854548640-&gt;3229842311992</title>\n",
       "<path d=\"M167.5,-249.366C167.5,-241.152 167.5,-231.658 167.5,-222.725\" fill=\"none\" stroke=\"black\"/>\n",
       "<polygon fill=\"black\" points=\"171,-222.607 167.5,-212.607 164,-222.607 171,-222.607\" stroke=\"black\"/>\n",
       "</g>\n",
       "<!-- 3229844464920 -->\n",
       "<g class=\"node\" id=\"node4\"><title>3229844464920</title>\n",
       "<polygon fill=\"none\" points=\"34,-83.5 34,-129.5 301,-129.5 301,-83.5 34,-83.5\" stroke=\"black\"/>\n",
       "<text font-family=\"Times New Roman,serif\" font-size=\"14.00\" text-anchor=\"middle\" x=\"90.5\" y=\"-102.8\">Flatten_1: Flatten</text>\n",
       "<polyline fill=\"none\" points=\"147,-83.5 147,-129.5 \" stroke=\"black\"/>\n",
       "<text font-family=\"Times New Roman,serif\" font-size=\"14.00\" text-anchor=\"middle\" x=\"175\" y=\"-114.3\">input:</text>\n",
       "<polyline fill=\"none\" points=\"147,-106.5 203,-106.5 \" stroke=\"black\"/>\n",
       "<text font-family=\"Times New Roman,serif\" font-size=\"14.00\" text-anchor=\"middle\" x=\"175\" y=\"-91.3\">output:</text>\n",
       "<polyline fill=\"none\" points=\"203,-83.5 203,-129.5 \" stroke=\"black\"/>\n",
       "<text font-family=\"Times New Roman,serif\" font-size=\"14.00\" text-anchor=\"middle\" x=\"252\" y=\"-114.3\">(None, 4, 4, 3)</text>\n",
       "<polyline fill=\"none\" points=\"203,-106.5 301,-106.5 \" stroke=\"black\"/>\n",
       "<text font-family=\"Times New Roman,serif\" font-size=\"14.00\" text-anchor=\"middle\" x=\"252\" y=\"-91.3\">(None, 48)</text>\n",
       "</g>\n",
       "<!-- 3229842311992&#45;&gt;3229844464920 -->\n",
       "<g class=\"edge\" id=\"edge3\"><title>3229842311992-&gt;3229844464920</title>\n",
       "<path d=\"M167.5,-166.366C167.5,-158.152 167.5,-148.658 167.5,-139.725\" fill=\"none\" stroke=\"black\"/>\n",
       "<polygon fill=\"black\" points=\"171,-139.607 167.5,-129.607 164,-139.607 171,-139.607\" stroke=\"black\"/>\n",
       "</g>\n",
       "<!-- 3229844464192 -->\n",
       "<g class=\"node\" id=\"node5\"><title>3229844464192</title>\n",
       "<polygon fill=\"none\" points=\"47.5,-0.5 47.5,-46.5 287.5,-46.5 287.5,-0.5 47.5,-0.5\" stroke=\"black\"/>\n",
       "<text font-family=\"Times New Roman,serif\" font-size=\"14.00\" text-anchor=\"middle\" x=\"101\" y=\"-19.8\">Dense_1: Dense</text>\n",
       "<polyline fill=\"none\" points=\"154.5,-0.5 154.5,-46.5 \" stroke=\"black\"/>\n",
       "<text font-family=\"Times New Roman,serif\" font-size=\"14.00\" text-anchor=\"middle\" x=\"182.5\" y=\"-31.3\">input:</text>\n",
       "<polyline fill=\"none\" points=\"154.5,-23.5 210.5,-23.5 \" stroke=\"black\"/>\n",
       "<text font-family=\"Times New Roman,serif\" font-size=\"14.00\" text-anchor=\"middle\" x=\"182.5\" y=\"-8.3\">output:</text>\n",
       "<polyline fill=\"none\" points=\"210.5,-0.5 210.5,-46.5 \" stroke=\"black\"/>\n",
       "<text font-family=\"Times New Roman,serif\" font-size=\"14.00\" text-anchor=\"middle\" x=\"249\" y=\"-31.3\">(None, 48)</text>\n",
       "<polyline fill=\"none\" points=\"210.5,-23.5 287.5,-23.5 \" stroke=\"black\"/>\n",
       "<text font-family=\"Times New Roman,serif\" font-size=\"14.00\" text-anchor=\"middle\" x=\"249\" y=\"-8.3\">(None, 10)</text>\n",
       "</g>\n",
       "<!-- 3229844464920&#45;&gt;3229844464192 -->\n",
       "<g class=\"edge\" id=\"edge4\"><title>3229844464920-&gt;3229844464192</title>\n",
       "<path d=\"M167.5,-83.3664C167.5,-75.1516 167.5,-65.6579 167.5,-56.7252\" fill=\"none\" stroke=\"black\"/>\n",
       "<polygon fill=\"black\" points=\"171,-56.6068 167.5,-46.6068 164,-56.6069 171,-56.6068\" stroke=\"black\"/>\n",
       "</g>\n",
       "</g>\n",
       "</svg>"
      ],
      "text/plain": [
       "<IPython.core.display.SVG object>"
      ]
     },
     "execution_count": 1,
     "metadata": {},
     "output_type": "execute_result"
    }
   ],
   "source": [
    "# CNN Train 2 - dropout\n",
    "import keras\n",
    "from keras.models import Sequential, Model\n",
    "from keras.layers import Dense, Activation, Flatten, Conv2D, Dropout\n",
    "from keras.utils import np_utils\n",
    "from keras.optimizers import SGD\n",
    "import keras.callbacks as callbacks\n",
    "import numpy as np\n",
    "from IPython.display import SVG\n",
    "from keras.utils.vis_utils import model_to_dot\n",
    "\n",
    "x_train = np.random.random((100, 6, 6, 1))\n",
    "y_train = keras.utils.to_categorical(np.random.randint(10, size=(100, 1)), num_classes=10)\n",
    "x_test = np.random.random((20, 6, 6, 1))\n",
    "y_test = keras.utils.to_categorical(np.random.randint(10, size=(20, 1)), num_classes=10)\n",
    "\n",
    "model = Sequential()\n",
    "model.add(Conv2D(filters=3, kernel_size=(3, 3), input_shape=(6, 6, 1), name='Conv2D_1'))\n",
    "model.add(Dropout(rate=0.5, name='Dropout_1'))\n",
    "model.add(Flatten(name='Flatten_1'))\n",
    "model.add(Dense(units=10, activation='softmax', name='Dense_1'))\n",
    "\n",
    "SVG(model_to_dot(model, show_shapes=True, dpi=65).create(prog='dot', format='svg'))"
   ]
  },
  {
   "cell_type": "code",
   "execution_count": 2,
   "metadata": {},
   "outputs": [
    {
     "name": "stdout",
     "output_type": "stream",
     "text": [
      "WARNING:tensorflow:From C:\\Users\\user\\Anaconda3\\envs\\tensorflow-gpu\\lib\\site-packages\\keras\\backend\\tensorflow_backend.py:422: The name tf.global_variables is deprecated. Please use tf.compat.v1.global_variables instead.\n",
      "\n",
      "Train on 80 samples, validate on 20 samples\n",
      "Epoch 1/10\n",
      "80/80 [==============================] - 1s 11ms/step - loss: 0.0959 - val_loss: 0.0915\n",
      "Epoch 2/10\n",
      "80/80 [==============================] - 0s 100us/step - loss: 0.0948 - val_loss: 0.0915\n",
      "Epoch 3/10\n",
      "80/80 [==============================] - 0s 137us/step - loss: 0.0933 - val_loss: 0.0915\n",
      "Epoch 4/10\n",
      "80/80 [==============================] - 0s 137us/step - loss: 0.0951 - val_loss: 0.0915\n",
      "Epoch 5/10\n",
      "80/80 [==============================] - 0s 100us/step - loss: 0.0914 - val_loss: 0.0915\n",
      "Epoch 6/10\n",
      "80/80 [==============================] - 0s 150us/step - loss: 0.0928 - val_loss: 0.0915\n",
      "Epoch 7/10\n",
      "80/80 [==============================] - 0s 100us/step - loss: 0.0939 - val_loss: 0.0915\n",
      "Epoch 8/10\n",
      "80/80 [==============================] - 0s 100us/step - loss: 0.0952 - val_loss: 0.0914\n",
      "Epoch 9/10\n",
      "80/80 [==============================] - 0s 150us/step - loss: 0.0938 - val_loss: 0.0914\n",
      "Epoch 10/10\n",
      "80/80 [==============================] - 0s 100us/step - loss: 0.0936 - val_loss: 0.0914\n"
     ]
    },
    {
     "data": {
      "text/plain": [
       "<keras.callbacks.callbacks.History at 0x2f0796b1860>"
      ]
     },
     "execution_count": 2,
     "metadata": {},
     "output_type": "execute_result"
    }
   ],
   "source": [
    "earlyStopping = callbacks.EarlyStopping(monitor='val_loss', patience=5)\n",
    "\n",
    "model.compile(loss='mean_squared_error', optimizer='sgd')\n",
    "model.fit(x_train, y_train, batch_size=32, epochs=10, callbacks=[earlyStopping], validation_split=0.2)"
   ]
  }
 ],
 "metadata": {
  "kernelspec": {
   "display_name": "Python [conda env:tensorflow-gpu] *",
   "language": "python",
   "name": "conda-env-tensorflow-gpu-py"
  },
  "language_info": {
   "codemirror_mode": {
    "name": "ipython",
    "version": 3
   },
   "file_extension": ".py",
   "mimetype": "text/x-python",
   "name": "python",
   "nbconvert_exporter": "python",
   "pygments_lexer": "ipython3",
   "version": "3.6.7"
  }
 },
 "nbformat": 4,
 "nbformat_minor": 4
}
